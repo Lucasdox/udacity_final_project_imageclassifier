{
 "cells": [
  {
   "cell_type": "markdown",
   "metadata": {},
   "source": [
    "# Developing an AI application\n",
    "\n",
    "Going forward, AI algorithms will be incorporated into more and more everyday applications. For example, you might want to include an image classifier in a smart phone app. To do this, you'd use a deep learning model trained on hundreds of thousands of images as part of the overall application architecture. A large part of software development in the future will be using these types of models as common parts of applications. \n",
    "\n",
    "In this project, you'll train an image classifier to recognize different species of flowers. You can imagine using something like this in a phone app that tells you the name of the flower your camera is looking at. In practice you'd train this classifier, then export it for use in your application. We'll be using [this dataset](http://www.robots.ox.ac.uk/~vgg/data/flowers/102/index.html) of 102 flower categories, you can see a few examples below. \n",
    "\n",
    "<img src='assets/Flowers.png' width=500px>\n",
    "\n",
    "The project is broken down into multiple steps:\n",
    "\n",
    "* Load and preprocess the image dataset\n",
    "* Train the image classifier on your dataset\n",
    "* Use the trained classifier to predict image content\n",
    "\n",
    "We'll lead you through each part which you'll implement in Python.\n",
    "\n",
    "When you've completed this project, you'll have an application that can be trained on any set of labeled images. Here your network will be learning about flowers and end up as a command line application. But, what you do with your new skills depends on your imagination and effort in building a dataset. For example, imagine an app where you take a picture of a car, it tells you what the make and model is, then looks up information about it. Go build your own dataset and make something new.\n",
    "\n",
    "First up is importing the packages you'll need. It's good practice to keep all the imports at the beginning of your code. As you work through this notebook and find you need to import a package, make sure to add the import up here."
   ]
  },
  {
   "cell_type": "code",
   "execution_count": 67,
   "metadata": {},
   "outputs": [],
   "source": [
    "from torchvision import datasets, transforms, models\n",
    "\n",
    "from torch import nn, optim\n",
    "import torch.nn.functional as F\n",
    "from torch.autograd import Variable\n",
    "import numpy as np\n",
    "\n",
    "import torch"
   ]
  },
  {
   "cell_type": "code",
   "execution_count": 10,
   "metadata": {},
   "outputs": [],
   "source": [
    "import signal\n",
    "\n",
    "from contextlib import contextmanager\n",
    "\n",
    "import requests\n",
    "\n",
    "\n",
    "DELAY = INTERVAL = 4 * 60  # interval time in seconds\n",
    "MIN_DELAY = MIN_INTERVAL = 2 * 60\n",
    "KEEPALIVE_URL = \"https://nebula.udacity.com/api/v1/remote/keep-alive\"\n",
    "TOKEN_URL = \"http://metadata.google.internal/computeMetadata/v1/instance/attributes/keep_alive_token\"\n",
    "TOKEN_HEADERS = {\"Metadata-Flavor\":\"Google\"}\n",
    "\n",
    "\n",
    "def _request_handler(headers):\n",
    "    def _handler(signum, frame):\n",
    "        requests.request(\"POST\", KEEPALIVE_URL, headers=headers)\n",
    "    return _handler\n",
    "\n",
    "\n",
    "@contextmanager\n",
    "def active_session(delay=DELAY, interval=INTERVAL):\n",
    "    \"\"\"\n",
    "    Example:\n",
    "\n",
    "    from workspace_utils import active session\n",
    "\n",
    "    with active_session():\n",
    "        # do long-running work here\n",
    "    \"\"\"\n",
    "    token = requests.request(\"GET\", TOKEN_URL, headers=TOKEN_HEADERS).text\n",
    "    headers = {'Authorization': \"STAR \" + token}\n",
    "    delay = max(delay, MIN_DELAY)\n",
    "    interval = max(interval, MIN_INTERVAL)\n",
    "    original_handler = signal.getsignal(signal.SIGALRM)\n",
    "    try:\n",
    "        signal.signal(signal.SIGALRM, _request_handler(headers))\n",
    "        signal.setitimer(signal.ITIMER_REAL, delay, interval)\n",
    "        yield\n",
    "    finally:\n",
    "        signal.signal(signal.SIGALRM, original_handler)\n",
    "        signal.setitimer(signal.ITIMER_REAL, 0)\n",
    "\n",
    "\n",
    "def keep_awake(iterable, delay=DELAY, interval=INTERVAL):\n",
    "    \"\"\"\n",
    "    Example:\n",
    "\n",
    "    from workspace_utils import keep_awake\n",
    "\n",
    "    for i in keep_awake(range(5)):\n",
    "        # do iteration with lots of work here\n",
    "    \"\"\"\n",
    "    with active_session(delay, interval): yield from iterable"
   ]
  },
  {
   "cell_type": "markdown",
   "metadata": {},
   "source": [
    "## Load the data\n",
    "\n",
    "Here you'll use `torchvision` to load the data ([documentation](http://pytorch.org/docs/0.3.0/torchvision/index.html)). The data should be included alongside this notebook, otherwise you can [download it here](https://s3.amazonaws.com/content.udacity-data.com/nd089/flower_data.tar.gz). The dataset is split into three parts, training, validation, and testing. For the training, you'll want to apply transformations such as random scaling, cropping, and flipping. This will help the network generalize leading to better performance. You'll also need to make sure the input data is resized to 224x224 pixels as required by the pre-trained networks.\n",
    "\n",
    "The validation and testing sets are used to measure the model's performance on data it hasn't seen yet. For this you don't want any scaling or rotation transformations, but you'll need to resize then crop the images to the appropriate size.\n",
    "\n",
    "The pre-trained networks you'll use were trained on the ImageNet dataset where each color channel was normalized separately. For all three sets you'll need to normalize the means and standard deviations of the images to what the network expects. For the means, it's `[0.485, 0.456, 0.406]` and for the standard deviations `[0.229, 0.224, 0.225]`, calculated from the ImageNet images.  These values will shift each color channel to be centered at 0 and range from -1 to 1.\n",
    " "
   ]
  },
  {
   "cell_type": "code",
   "execution_count": 11,
   "metadata": {},
   "outputs": [],
   "source": [
    "data_dir = 'flowers'\n",
    "train_dir = data_dir + '/train'\n",
    "valid_dir = data_dir + '/valid'\n",
    "test_dir = data_dir + '/test'"
   ]
  },
  {
   "cell_type": "code",
   "execution_count": 28,
   "metadata": {},
   "outputs": [],
   "source": [
    "# TODO: Define your transforms for the training, validation, and testing sets\n",
    "data_transforms = transforms.Compose([\n",
    "    transforms.RandomRotation(30),\n",
    "    transforms.RandomResizedCrop(224),\n",
    "    transforms.RandomHorizontalFlip(),\n",
    "    transforms.ToTensor(),\n",
    "    transforms.Normalize([0.485, 0.456, 0.406], [0.229, 0.224, 0.225])\n",
    "    \n",
    "])\n",
    "\n",
    "test_transforms = transforms.Compose([\n",
    "    transforms.Resize(256),\n",
    "    transforms.CenterCrop(224),\n",
    "    transforms.ToTensor(),\n",
    "    transforms.Normalize([0.485, 0.456, 0.406], [0.229, 0.224, 0.225])\n",
    "    \n",
    "])\n",
    "\n",
    "# TODO: Load the datasets with ImageFolder\n",
    "train_data = datasets.ImageFolder(train_dir, transform = data_transforms)\n",
    "test_data = datasets.ImageFolder(test_dir, transform = test_transforms)\n",
    "valid_data = datasets.ImageFolder(valid_dir, transform = test_transforms)\n",
    "\n",
    "# TODO: Using the image datasets and the trainforms, define the dataloaders\n",
    "train_loader = torch.utils.data.DataLoader(train_data, batch_size=64, shuffle=True)\n",
    "test_loader = torch.utils.data.DataLoader(test_data, batch_size=32, shuffle=True)\n",
    "valid_loader = torch.utils.data.DataLoader(valid_data, batch_size=20, shuffle=True)\n",
    "\n"
   ]
  },
  {
   "cell_type": "markdown",
   "metadata": {},
   "source": [
    "### Label mapping\n",
    "\n",
    "You'll also need to load in a mapping from category label to category name. You can find this in the file `cat_to_name.json`. It's a JSON object which you can read in with the [`json` module](https://docs.python.org/2/library/json.html). This will give you a dictionary mapping the integer encoded categories to the actual names of the flowers."
   ]
  },
  {
   "cell_type": "code",
   "execution_count": 29,
   "metadata": {},
   "outputs": [],
   "source": [
    "import json\n",
    "\n",
    "with open('cat_to_name.json', 'r') as f:\n",
    "    cat_to_name = json.load(f)"
   ]
  },
  {
   "cell_type": "markdown",
   "metadata": {},
   "source": [
    "# Building and training the classifier\n",
    "\n",
    "Now that the data is ready, it's time to build and train the classifier. As usual, you should use one of the pretrained models from `torchvision.models` to get the image features. Build and train a new feed-forward classifier using those features.\n",
    "\n",
    "We're going to leave this part up to you. Refer to [the rubric](https://review.udacity.com/#!/rubrics/1663/view) for guidance on successfully completing this section. Things you'll need to do:\n",
    "\n",
    "* Load a [pre-trained network](http://pytorch.org/docs/master/torchvision/models.html) (If you need a starting point, the VGG networks work great and are straightforward to use)\n",
    "* Define a new, untrained feed-forward network as a classifier, using ReLU activations and dropout\n",
    "* Train the classifier layers using backpropagation using the pre-trained network to get the features\n",
    "* Track the loss and accuracy on the validation set to determine the best hyperparameters\n",
    "\n",
    "We've left a cell open for you below, but use as many as you need. Our advice is to break the problem up into smaller parts you can run separately. Check that each part is doing what you expect, then move on to the next. You'll likely find that as you work through each part, you'll need to go back and modify your previous code. This is totally normal!\n",
    "\n",
    "When training make sure you're updating only the weights of the feed-forward network. You should be able to get the validation accuracy above 70% if you build everything right. Make sure to try different hyperparameters (learning rate, units in the classifier, epochs, etc) to find the best model. Save those hyperparameters to use as default values in the next part of the project.\n",
    "\n",
    "One last important tip if you're using the workspace to run your code: To avoid having your workspace disconnect during the long-running tasks in this notebook, please read in the earlier page in this lesson called Intro to\n",
    "GPU Workspaces about Keeping Your Session Active. You'll want to include code from the workspace_utils.py module.\n",
    "\n",
    "**Note for Workspace users:** If your network is over 1 GB when saved as a checkpoint, there might be issues with saving backups in your workspace. Typically this happens with wide dense layers after the convolutional layers. If your saved checkpoint is larger than 1 GB (you can open a terminal and check with `ls -lh`), you should reduce the size of your hidden layers and train again."
   ]
  },
  {
   "cell_type": "code",
   "execution_count": 186,
   "metadata": {},
   "outputs": [],
   "source": [
    "# TODO: Build and train your network\n",
    "from collections import OrderedDict\n",
    "def build_model():\n",
    "    model = models.densenet121(pretrained=True)\n",
    "    for param in model.parameters():\n",
    "        param.requires_grad = False\n",
    "\n",
    "    classifier = nn.Sequential(OrderedDict([\n",
    "                                      ('fc1', nn.Linear(1024, 500)),\n",
    "                                      ('drop', nn.Dropout(p=0.6)),\n",
    "                                      ('relu', nn.ReLU()),\n",
    "                                      ('fc2', nn.Linear(500, 102)),\n",
    "                                      ('output', nn.LogSoftmax(dim=1))]))\n",
    "\n",
    "    model.classifier = classifier\n",
    "    model.class_to_idx = train_data.class_to_idx\n",
    "    return model\n"
   ]
  },
  {
   "cell_type": "code",
   "execution_count": 188,
   "metadata": {},
   "outputs": [
    {
     "name": "stderr",
     "output_type": "stream",
     "text": [
      "/opt/conda/lib/python3.6/site-packages/torchvision-0.2.1-py3.6.egg/torchvision/models/densenet.py:212: UserWarning: nn.init.kaiming_normal is now deprecated in favor of nn.init.kaiming_normal_.\n",
      "  nn.init.kaiming_normal(m.weight.data)\n"
     ]
    },
    {
     "name": "stdout",
     "output_type": "stream",
     "text": [
      "-------Starting Train--------\n",
      "Epoch: 1/7..  Training Loss: 0.046..  Test Loss: 4.635..  Test Accuracy: 0.026\n",
      "Epoch: 1/7..  Training Loss: 0.507..  Test Loss: 4.319..  Test Accuracy: 0.156\n",
      "Epoch: 1/7..  Training Loss: 0.925..  Test Loss: 3.987..  Test Accuracy: 0.166\n",
      "Epoch: 1/7..  Training Loss: 1.320..  Test Loss: 3.702..  Test Accuracy: 0.210\n",
      "Epoch: 1/7..  Training Loss: 1.700..  Test Loss: 3.373..  Test Accuracy: 0.292\n",
      "Epoch: 1/7..  Training Loss: 2.053..  Test Loss: 3.055..  Test Accuracy: 0.344\n",
      "Epoch: 1/7..  Training Loss: 2.376..  Test Loss: 2.693..  Test Accuracy: 0.404\n",
      "Epoch: 1/7..  Training Loss: 2.685..  Test Loss: 2.430..  Test Accuracy: 0.472\n",
      "Epoch: 1/7..  Training Loss: 2.968..  Test Loss: 2.200..  Test Accuracy: 0.506\n",
      "Epoch: 1/7..  Training Loss: 3.244..  Test Loss: 2.043..  Test Accuracy: 0.566\n",
      "Epoch: 1/7..  Training Loss: 3.496..  Test Loss: 1.782..  Test Accuracy: 0.590\n",
      "-------Starting Train--------\n",
      "Epoch: 2/7..  Training Loss: 0.026..  Test Loss: 1.745..  Test Accuracy: 0.586\n",
      "Epoch: 2/7..  Training Loss: 0.275..  Test Loss: 1.760..  Test Accuracy: 0.612\n",
      "Epoch: 2/7..  Training Loss: 0.515..  Test Loss: 1.570..  Test Accuracy: 0.613\n",
      "Epoch: 2/7..  Training Loss: 0.742..  Test Loss: 1.527..  Test Accuracy: 0.637\n",
      "Epoch: 2/7..  Training Loss: 0.960..  Test Loss: 1.398..  Test Accuracy: 0.700\n",
      "Epoch: 2/7..  Training Loss: 1.170..  Test Loss: 1.272..  Test Accuracy: 0.714\n",
      "Epoch: 2/7..  Training Loss: 1.382..  Test Loss: 1.318..  Test Accuracy: 0.700\n",
      "Epoch: 2/7..  Training Loss: 1.598..  Test Loss: 1.220..  Test Accuracy: 0.719\n",
      "Epoch: 2/7..  Training Loss: 1.815..  Test Loss: 1.196..  Test Accuracy: 0.718\n",
      "Epoch: 2/7..  Training Loss: 2.022..  Test Loss: 1.131..  Test Accuracy: 0.742\n",
      "Epoch: 2/7..  Training Loss: 2.219..  Test Loss: 1.084..  Test Accuracy: 0.760\n",
      "-------Starting Train--------\n",
      "Epoch: 3/7..  Training Loss: 0.021..  Test Loss: 1.106..  Test Accuracy: 0.752\n",
      "Epoch: 3/7..  Training Loss: 0.225..  Test Loss: 1.115..  Test Accuracy: 0.730\n",
      "Epoch: 3/7..  Training Loss: 0.425..  Test Loss: 0.967..  Test Accuracy: 0.752\n",
      "Epoch: 3/7..  Training Loss: 0.618..  Test Loss: 0.959..  Test Accuracy: 0.769\n",
      "Epoch: 3/7..  Training Loss: 0.815..  Test Loss: 0.977..  Test Accuracy: 0.776\n",
      "Epoch: 3/7..  Training Loss: 0.990..  Test Loss: 0.832..  Test Accuracy: 0.796\n",
      "Epoch: 3/7..  Training Loss: 1.173..  Test Loss: 0.927..  Test Accuracy: 0.769\n",
      "Epoch: 3/7..  Training Loss: 1.350..  Test Loss: 0.854..  Test Accuracy: 0.793\n",
      "Epoch: 3/7..  Training Loss: 1.519..  Test Loss: 0.783..  Test Accuracy: 0.819\n",
      "Epoch: 3/7..  Training Loss: 1.705..  Test Loss: 0.829..  Test Accuracy: 0.802\n",
      "Epoch: 3/7..  Training Loss: 1.873..  Test Loss: 0.752..  Test Accuracy: 0.816\n",
      "-------Starting Train--------\n",
      "Epoch: 4/7..  Training Loss: 0.015..  Test Loss: 0.755..  Test Accuracy: 0.809\n",
      "Epoch: 4/7..  Training Loss: 0.176..  Test Loss: 0.808..  Test Accuracy: 0.806\n",
      "Epoch: 4/7..  Training Loss: 0.351..  Test Loss: 0.782..  Test Accuracy: 0.808\n",
      "Epoch: 4/7..  Training Loss: 0.532..  Test Loss: 0.767..  Test Accuracy: 0.799\n",
      "Epoch: 4/7..  Training Loss: 0.705..  Test Loss: 0.772..  Test Accuracy: 0.821\n",
      "Epoch: 4/7..  Training Loss: 0.876..  Test Loss: 0.724..  Test Accuracy: 0.827\n",
      "Epoch: 4/7..  Training Loss: 1.038..  Test Loss: 0.753..  Test Accuracy: 0.804\n",
      "Epoch: 4/7..  Training Loss: 1.205..  Test Loss: 0.773..  Test Accuracy: 0.795\n",
      "Epoch: 4/7..  Training Loss: 1.371..  Test Loss: 0.763..  Test Accuracy: 0.808\n",
      "Epoch: 4/7..  Training Loss: 1.540..  Test Loss: 0.759..  Test Accuracy: 0.809\n",
      "Epoch: 4/7..  Training Loss: 1.707..  Test Loss: 0.719..  Test Accuracy: 0.813\n",
      "-------Starting Train--------\n",
      "Epoch: 5/7..  Training Loss: 0.017..  Test Loss: 0.707..  Test Accuracy: 0.805\n",
      "Epoch: 5/7..  Training Loss: 0.181..  Test Loss: 0.702..  Test Accuracy: 0.819\n",
      "Epoch: 5/7..  Training Loss: 0.350..  Test Loss: 0.648..  Test Accuracy: 0.841\n",
      "Epoch: 5/7..  Training Loss: 0.511..  Test Loss: 0.650..  Test Accuracy: 0.818\n",
      "Epoch: 5/7..  Training Loss: 0.668..  Test Loss: 0.666..  Test Accuracy: 0.829\n",
      "Epoch: 5/7..  Training Loss: 0.822..  Test Loss: 0.652..  Test Accuracy: 0.828\n",
      "Epoch: 5/7..  Training Loss: 0.983..  Test Loss: 0.648..  Test Accuracy: 0.833\n",
      "Epoch: 5/7..  Training Loss: 1.136..  Test Loss: 0.690..  Test Accuracy: 0.809\n",
      "Epoch: 5/7..  Training Loss: 1.290..  Test Loss: 0.675..  Test Accuracy: 0.829\n",
      "Epoch: 5/7..  Training Loss: 1.448..  Test Loss: 0.646..  Test Accuracy: 0.831\n",
      "Epoch: 5/7..  Training Loss: 1.595..  Test Loss: 0.615..  Test Accuracy: 0.835\n",
      "-------Starting Train--------\n",
      "Epoch: 6/7..  Training Loss: 0.014..  Test Loss: 0.607..  Test Accuracy: 0.854\n",
      "Epoch: 6/7..  Training Loss: 0.160..  Test Loss: 0.613..  Test Accuracy: 0.839\n",
      "Epoch: 6/7..  Training Loss: 0.313..  Test Loss: 0.659..  Test Accuracy: 0.811\n",
      "Epoch: 6/7..  Training Loss: 0.465..  Test Loss: 0.624..  Test Accuracy: 0.827\n",
      "Epoch: 6/7..  Training Loss: 0.622..  Test Loss: 0.598..  Test Accuracy: 0.834\n",
      "Epoch: 6/7..  Training Loss: 0.772..  Test Loss: 0.603..  Test Accuracy: 0.835\n",
      "Epoch: 6/7..  Training Loss: 0.917..  Test Loss: 0.555..  Test Accuracy: 0.851\n",
      "Epoch: 6/7..  Training Loss: 1.072..  Test Loss: 0.583..  Test Accuracy: 0.840\n",
      "Epoch: 6/7..  Training Loss: 1.246..  Test Loss: 0.631..  Test Accuracy: 0.852\n",
      "Epoch: 6/7..  Training Loss: 1.405..  Test Loss: 0.568..  Test Accuracy: 0.862\n",
      "Epoch: 6/7..  Training Loss: 1.555..  Test Loss: 0.540..  Test Accuracy: 0.849\n",
      "-------Starting Train--------\n",
      "Epoch: 7/7..  Training Loss: 0.018..  Test Loss: 0.539..  Test Accuracy: 0.852\n",
      "Epoch: 7/7..  Training Loss: 0.157..  Test Loss: 0.571..  Test Accuracy: 0.851\n",
      "Epoch: 7/7..  Training Loss: 0.301..  Test Loss: 0.543..  Test Accuracy: 0.849\n",
      "Epoch: 7/7..  Training Loss: 0.447..  Test Loss: 0.548..  Test Accuracy: 0.852\n",
      "Epoch: 7/7..  Training Loss: 0.595..  Test Loss: 0.561..  Test Accuracy: 0.870\n",
      "Epoch: 7/7..  Training Loss: 0.758..  Test Loss: 0.540..  Test Accuracy: 0.856\n",
      "Epoch: 7/7..  Training Loss: 0.910..  Test Loss: 0.531..  Test Accuracy: 0.872\n",
      "Epoch: 7/7..  Training Loss: 1.063..  Test Loss: 0.534..  Test Accuracy: 0.857\n",
      "Epoch: 7/7..  Training Loss: 1.201..  Test Loss: 0.528..  Test Accuracy: 0.848\n",
      "Epoch: 7/7..  Training Loss: 1.357..  Test Loss: 0.566..  Test Accuracy: 0.857\n",
      "Epoch: 7/7..  Training Loss: 1.516..  Test Loss: 0.601..  Test Accuracy: 0.835\n"
     ]
    }
   ],
   "source": [
    "\n",
    "# TODO: Build and train your network\n",
    "\n",
    "#def train(model, epochs, learning_rate, criterion, optimizer, train_loader, valid_loader):\n",
    "model = build_model()\n",
    "\n",
    "criterion = nn.NLLLoss()\n",
    "optimizer = optim.Adam(model.classifier.parameters(), lr=0.003)\n",
    "epochs = 7\n",
    "print_every = 10\n",
    "device = torch.device(\"cuda\" if torch.cuda.is_available() else \"cpu\")\n",
    "model.to(device)\n",
    "\n",
    "for e in range(epochs):\n",
    "    running_loss = 0\n",
    "    print(\"-------Starting Train--------\")\n",
    "    for ii, (inputs, labels) in enumerate(train_loader):\n",
    "        inputs, labels = Variable(inputs).to(device), Variable(labels).to(device)\n",
    "\n",
    "\n",
    "        optimizer.zero_grad()\n",
    "\n",
    "        outputs = model.forward(inputs)\n",
    "        loss = criterion(outputs,labels)\n",
    "        loss.backward()\n",
    "        optimizer.step()\n",
    "\n",
    "        running_loss += loss.item()\n",
    "\n",
    "        if ii % print_every == 0:\n",
    "            model.eval()\n",
    "            test_loss = 0\n",
    "            accuracy = 0\n",
    "\n",
    "            with torch.no_grad():\n",
    "                for inputs2, labels2 in valid_loader:\n",
    "                    inputs2, labels2 = Variable(inputs2).to(device), Variable(labels2).to(device)\n",
    "                    outputs2 = model.forward(inputs2)\n",
    "                    test_loss += criterion(outputs2, labels2)\n",
    "\n",
    "                    ps = torch.exp(outputs2)\n",
    "                    top_p, top_class = ps.topk(1, dim=1)\n",
    "                    equals = top_class == labels2.view(*top_class.shape)\n",
    "                    accuracy += torch.mean(equals.type(torch.FloatTensor))\n",
    "\n",
    "            model.train()\n",
    "\n",
    "            print(\"Epoch: {}/{}.. \".format(e+1, epochs),\n",
    "                  \"Training Loss: {:.3f}.. \".format(running_loss/len(train_loader)),\n",
    "                  \"Test Loss: {:.3f}.. \".format(test_loss/len(valid_loader)),\n",
    "                  \"Test Accuracy: {:.3f}\".format(accuracy/len(valid_loader)))"
   ]
  },
  {
   "cell_type": "markdown",
   "metadata": {},
   "source": [
    "## Testing your network\n",
    "\n",
    "It's good practice to test your trained network on test data, images the network has never seen either in training or validation. This will give you a good estimate for the model's performance on completely new images. Run the test images through the network and measure the accuracy, the same way you did validation. You should be able to reach around 70% accuracy on the test set if the model has been trained well."
   ]
  },
  {
   "cell_type": "code",
   "execution_count": 229,
   "metadata": {
    "scrolled": true
   },
   "outputs": [
    {
     "name": "stderr",
     "output_type": "stream",
     "text": [
      "/opt/conda/lib/python3.6/site-packages/torchvision-0.2.1-py3.6.egg/torchvision/models/densenet.py:212: UserWarning: nn.init.kaiming_normal is now deprecated in favor of nn.init.kaiming_normal_.\n",
      "  nn.init.kaiming_normal(m.weight.data)\n"
     ]
    },
    {
     "name": "stdout",
     "output_type": "stream",
     "text": [
      "Test Accuracy: 0.846\n"
     ]
    }
   ],
   "source": [
    "model3 = models.densenet121(pretrained=True)\n",
    "accuracy = 0\n",
    "with torch.no_grad():\n",
    "    model2.to('cuda')\n",
    "    model2.eval()\n",
    "    for images, labels in valid_loader:\n",
    "        images, labels = images.to('cuda'), labels.to('cuda')\n",
    "        outputs = model2.forward(images)\n",
    "        #test_loss += criterion(log_ps, labels)\n",
    "\n",
    "        ps = torch.exp(outputs)\n",
    "        top_p, top_class = ps.topk(1, dim=1)\n",
    "        equals = top_class == labels.view(*top_class.shape)\n",
    "        accuracy += torch.mean(equals.type(torch.FloatTensor))\n",
    "        \n",
    "print(\"Test Accuracy: {:.3f}\".format(accuracy/len(valid_loader)))\n"
   ]
  },
  {
   "cell_type": "code",
   "execution_count": null,
   "metadata": {},
   "outputs": [],
   "source": []
  },
  {
   "cell_type": "markdown",
   "metadata": {},
   "source": [
    "## Save the checkpoint\n",
    "\n",
    "Now that your network is trained, save the model so you can load it later for making predictions. You probably want to save other things such as the mapping of classes to indices which you get from one of the image datasets: `image_datasets['train'].class_to_idx`. You can attach this to the model as an attribute which makes inference easier later on.\n",
    "\n",
    "```model.class_to_idx = image_datasets['train'].class_to_idx```\n",
    "\n",
    "Remember that you'll want to completely rebuild the model later so you can use it for inference. Make sure to include any information you need in the checkpoint. If you want to load the model and keep training, you'll want to save the number of epochs as well as the optimizer state, `optimizer.state_dict`. You'll likely want to use this trained model in the next part of the project, so best to save it now."
   ]
  },
  {
   "cell_type": "code",
   "execution_count": 57,
   "metadata": {},
   "outputs": [],
   "source": [
    "# TODO: Save the checkpoint \n",
    "def save_checkpoint(path, model, optimizer,  classifier):\n",
    "    \n",
    "    checkpoint = {'arch': 'densenet121', \n",
    "                  'model': model,\n",
    "                  'learning_rate': 0.003,\n",
    "                  'classifier' : classifier,\n",
    "                  'epochs': 10,\n",
    "                  'optimizer': optimizer.state_dict(),\n",
    "                  'state_dict': model.state_dict(),\n",
    "                  'class_to_idx': model.class_to_idx}\n",
    "\n",
    "    torch.save(checkpoint, path) # the path will be user defined, if not it autosets to checkpoint.pth\n",
    "    \n",
    "    \n",
    "\n"
   ]
  },
  {
   "cell_type": "code",
   "execution_count": 190,
   "metadata": {},
   "outputs": [],
   "source": [
    "save_checkpoint('model_correct2', model, optimizer, model.classifier)"
   ]
  },
  {
   "cell_type": "markdown",
   "metadata": {},
   "source": [
    "## Loading the checkpoint\n",
    "\n",
    "At this point it's good to write a function that can load a checkpoint and rebuild the model. That way you can come back to this project and keep working on it without having to retrain the network."
   ]
  },
  {
   "cell_type": "code",
   "execution_count": 191,
   "metadata": {},
   "outputs": [],
   "source": [
    "# TODO: Write a function that loads a checkpoint and rebuilds the model\n",
    "def load_checkpoint(filepath):\n",
    "    checkpoint = torch.load(filepath)\n",
    "    model = checkpoint['model']\n",
    "    model.classifier = checkpoint['classifier']\n",
    "    learning_rate = checkpoint['learning_rate']\n",
    "    epochs = checkpoint['epochs']\n",
    "    optimizer = checkpoint['optimizer']\n",
    "    model.load_state_dict(checkpoint['state_dict'])\n",
    "    model.class_to_idx = checkpoint['class_to_idx']\n",
    "    \n",
    "    return model"
   ]
  },
  {
   "cell_type": "markdown",
   "metadata": {},
   "source": [
    "# Inference for classification\n",
    "\n",
    "Now you'll write a function to use a trained network for inference. That is, you'll pass an image into the network and predict the class of the flower in the image. Write a function called `predict` that takes an image and a model, then returns the top $K$ most likely classes along with the probabilities. It should look like \n",
    "\n",
    "```python\n",
    "probs, classes = predict(image_path, model)\n",
    "print(probs)\n",
    "print(classes)\n",
    "> [ 0.01558163  0.01541934  0.01452626  0.01443549  0.01407339]\n",
    "> ['70', '3', '45', '62', '55']\n",
    "```\n",
    "\n",
    "First you'll need to handle processing the input image such that it can be used in your network. \n",
    "\n",
    "## Image Preprocessing\n",
    "\n",
    "You'll want to use `PIL` to load the image ([documentation](https://pillow.readthedocs.io/en/latest/reference/Image.html)). It's best to write a function that preprocesses the image so it can be used as input for the model. This function should process the images in the same manner used for training. \n",
    "\n",
    "First, resize the images where the shortest side is 256 pixels, keeping the aspect ratio. This can be done with the [`thumbnail`](http://pillow.readthedocs.io/en/3.1.x/reference/Image.html#PIL.Image.Image.thumbnail) or [`resize`](http://pillow.readthedocs.io/en/3.1.x/reference/Image.html#PIL.Image.Image.thumbnail) methods. Then you'll need to crop out the center 224x224 portion of the image.\n",
    "\n",
    "Color channels of images are typically encoded as integers 0-255, but the model expected floats 0-1. You'll need to convert the values. It's easiest with a Numpy array, which you can get from a PIL image like so `np_image = np.array(pil_image)`.\n",
    "\n",
    "As before, the network expects the images to be normalized in a specific way. For the means, it's `[0.485, 0.456, 0.406]` and for the standard deviations `[0.229, 0.224, 0.225]`. You'll want to subtract the means from each color channel, then divide by the standard deviation. \n",
    "\n",
    "And finally, PyTorch expects the color channel to be the first dimension but it's the third dimension in the PIL image and Numpy array. You can reorder dimensions using [`ndarray.transpose`](https://docs.scipy.org/doc/numpy-1.13.0/reference/generated/numpy.ndarray.transpose.html). The color channel needs to be first and retain the order of the other two dimensions."
   ]
  },
  {
   "cell_type": "code",
   "execution_count": 206,
   "metadata": {},
   "outputs": [],
   "source": [
    "from PIL import Image\n",
    "import matplotlib.pyplot as plt \n",
    "\n",
    "def process_image(image):\n",
    "    ''' Scales, crops, and normalizes a PIL image for a PyTorch model,\n",
    "        returns an Numpy array\n",
    "    '''\n",
    "    pil = Image.open(image)\n",
    "    \n",
    "    transform = transforms.Compose([\n",
    "        transforms.Resize(256),\n",
    "        transforms.CenterCrop(224),\n",
    "        transforms.ToTensor(),\n",
    "        transforms.Normalize([0.485, 0.456, 0.406], [0.229, 0.224, 0.225])\n",
    "    ])\n",
    "    \n",
    "    image = transform(pil)\n",
    "    \n",
    "    \n",
    "    return image.numpy()\n",
    "    # TODO: Process a PIL image for use in a PyTorch model"
   ]
  },
  {
   "cell_type": "markdown",
   "metadata": {},
   "source": [
    "To check your work, the function below converts a PyTorch tensor and displays it in the notebook. If your `process_image` function works, running the output through this function should return the original image (except for the cropped out portions)."
   ]
  },
  {
   "cell_type": "code",
   "execution_count": 208,
   "metadata": {},
   "outputs": [
    {
     "ename": "AttributeError",
     "evalue": "'numpy.ndarray' object has no attribute 'numpy'",
     "output_type": "error",
     "traceback": [
      "\u001b[0;31m---------------------------------------------------------------------------\u001b[0m",
      "\u001b[0;31mAttributeError\u001b[0m                            Traceback (most recent call last)",
      "\u001b[0;32m<ipython-input-208-703cda693182>\u001b[0m in \u001b[0;36m<module>\u001b[0;34m()\u001b[0m\n\u001b[1;32m     20\u001b[0m     \u001b[0;32mreturn\u001b[0m \u001b[0max\u001b[0m\u001b[0;34m\u001b[0m\u001b[0m\n\u001b[1;32m     21\u001b[0m \u001b[0;34m\u001b[0m\u001b[0m\n\u001b[0;32m---> 22\u001b[0;31m \u001b[0mimshow\u001b[0m\u001b[0;34m(\u001b[0m\u001b[0mprocess_image\u001b[0m\u001b[0;34m(\u001b[0m\u001b[0;34m'flowers/test/10/image_07104.jpg'\u001b[0m\u001b[0;34m)\u001b[0m\u001b[0;34m)\u001b[0m\u001b[0;34m\u001b[0m\u001b[0m\n\u001b[0m",
      "\u001b[0;32m<ipython-input-208-703cda693182>\u001b[0m in \u001b[0;36mimshow\u001b[0;34m(image, ax, title)\u001b[0m\n\u001b[1;32m      6\u001b[0m     \u001b[0;31m# PyTorch tensors assume the color channel is the first dimension\u001b[0m\u001b[0;34m\u001b[0m\u001b[0;34m\u001b[0m\u001b[0m\n\u001b[1;32m      7\u001b[0m     \u001b[0;31m# but matplotlib assumes is the third dimension\u001b[0m\u001b[0;34m\u001b[0m\u001b[0;34m\u001b[0m\u001b[0m\n\u001b[0;32m----> 8\u001b[0;31m     \u001b[0mimage\u001b[0m \u001b[0;34m=\u001b[0m \u001b[0mimage\u001b[0m\u001b[0;34m.\u001b[0m\u001b[0mnumpy\u001b[0m\u001b[0;34m(\u001b[0m\u001b[0;34m)\u001b[0m\u001b[0;34m.\u001b[0m\u001b[0mtranspose\u001b[0m\u001b[0;34m(\u001b[0m\u001b[0;34m(\u001b[0m\u001b[0;36m1\u001b[0m\u001b[0;34m,\u001b[0m \u001b[0;36m2\u001b[0m\u001b[0;34m,\u001b[0m \u001b[0;36m0\u001b[0m\u001b[0;34m)\u001b[0m\u001b[0;34m)\u001b[0m\u001b[0;34m\u001b[0m\u001b[0m\n\u001b[0m\u001b[1;32m      9\u001b[0m \u001b[0;34m\u001b[0m\u001b[0m\n\u001b[1;32m     10\u001b[0m     \u001b[0;31m# Undo preprocessing\u001b[0m\u001b[0;34m\u001b[0m\u001b[0;34m\u001b[0m\u001b[0m\n",
      "\u001b[0;31mAttributeError\u001b[0m: 'numpy.ndarray' object has no attribute 'numpy'"
     ]
    },
    {
     "data": {
      "image/png": "[encoded data removed]",
      "text/plain": [
       "<matplotlib.figure.Figure at 0x7f12255c6240>"
      ]
     },
     "metadata": {
      "needs_background": "light"
     },
     "output_type": "display_data"
    }
   ],
   "source": [
    "def imshow(image, ax=None, title=None):\n",
    "    \"\"\"Imshow for Tensor.\"\"\"\n",
    "    if ax is None:\n",
    "        fig, ax = plt.subplots()\n",
    "    \n",
    "    # PyTorch tensors assume the color channel is the first dimension\n",
    "    # but matplotlib assumes is the third dimension\n",
    "    image = image.numpy().transpose((1, 2, 0))\n",
    "    \n",
    "    # Undo preprocessing\n",
    "    mean = np.array([0.485, 0.456, 0.406])\n",
    "    std = np.array([0.229, 0.224, 0.225])\n",
    "    image = std * image + mean\n",
    "    \n",
    "    # Image needs to be clipped between 0 and 1 or it looks like noise when displayed\n",
    "    image = np.clip(image, 0, 1)\n",
    "    \n",
    "    ax.imshow(image)\n",
    "    \n",
    "    return ax\n",
    "\n",
    "imshow(process_image('flowers/test/10/image_07104.jpg'))\n"
   ]
  },
  {
   "cell_type": "markdown",
   "metadata": {},
   "source": [
    "## Class Prediction\n",
    "\n",
    "Once you can get images in the correct format, it's time to write a function for making predictions with your model. A common practice is to predict the top 5 or so (usually called top-$K$) most probable classes. You'll want to calculate the class probabilities then find the $K$ largest values.\n",
    "\n",
    "To get the top $K$ largest values in a tensor use [`x.topk(k)`](http://pytorch.org/docs/master/torch.html#torch.topk). This method returns both the highest `k` probabilities and the indices of those probabilities corresponding to the classes. You need to convert from these indices to the actual class labels using `class_to_idx` which hopefully you added to the model or from an `ImageFolder` you used to load the data ([see here](#Save-the-checkpoint)). Make sure to invert the dictionary so you get a mapping from index to class as well.\n",
    "\n",
    "Again, this method should take a path to an image and a model checkpoint, then return the probabilities and classes.\n",
    "\n",
    "```python\n",
    "probs, classes = predict(image_path, model)\n",
    "print(probs)\n",
    "print(classes)\n",
    "> [ 0.01558163  0.01541934  0.01452626  0.01443549  0.01407339]\n",
    "> ['70', '3', '45', '62', '55']\n",
    "```"
   ]
  },
  {
   "cell_type": "code",
   "execution_count": 248,
   "metadata": {},
   "outputs": [],
   "source": [
    "def predict(image_path, model, topk=5):\n",
    "    ''' Predict the class (or classes) of an image using a trained deep learning model.\n",
    "    '''\n",
    "    model.eval()\n",
    "    with torch.no_grad():\n",
    "        model.to('cuda')\n",
    "        image = process_image(image_path)\n",
    "        image = torch.from_numpy(image)\n",
    "        image.unsqueeze_(0)\n",
    "        image = Variable(image.float()).to('cuda')\n",
    "        print(image.shape)\n",
    "        outputs = model.forward(image)\n",
    "\n",
    "        ps = torch.exp(outputs)\n",
    "        top_p, top_class = ps.topk(topk, dim=1)\n",
    "        \n",
    "        inv_class_to_idx = {v: k for k, v in model.class_to_idx.items()}\n",
    "        top_labels_list = top_class[0].tolist()\n",
    "        \n",
    "        top_classes = [inv_class_to_idx[x] for x in top_labels_list]\n",
    "        \n",
    "\n",
    "        #index_to_class = {val: key for key, val in model.class_to_idx.items()}\n",
    "        #top_classes = [np.int(index_to_class[each]) for each in np.array(probs.topk(topk)[1][0])]\n",
    "    \n",
    "    return top_p, top_classes\n",
    "    "
   ]
  },
  {
   "cell_type": "markdown",
   "metadata": {},
   "source": [
    "## Sanity Checking\n",
    "\n",
    "Now that you can use a trained model for predictions, check to make sure it makes sense. Even if the testing accuracy is high, it's always good to check that there aren't obvious bugs. Use `matplotlib` to plot the probabilities for the top 5 classes as a bar graph, along with the input image. It should look like this:\n",
    "\n",
    "<img src='assets/inference_example.png' width=300px>\n",
    "\n",
    "You can convert from the class integer encoding to actual flower names with the `cat_to_name.json` file (should have been loaded earlier in the notebook). To show a PyTorch tensor as an image, use the `imshow` function defined above."
   ]
  },
  {
   "cell_type": "code",
   "execution_count": 249,
   "metadata": {},
   "outputs": [
    {
     "name": "stdout",
     "output_type": "stream",
     "text": [
      "torch.Size([1, 3, 224, 224])\n"
     ]
    },
    {
     "data": {
      "text/plain": [
       "(tensor([[ 0.8403,  0.0585,  0.0563,  0.0262,  0.0075]], device='cuda:0'),\n",
       " ['100', '71', '41', '54', '5'])"
      ]
     },
     "execution_count": 249,
     "metadata": {},
     "output_type": "execute_result"
    }
   ],
   "source": [
    "# TODO: Display an image along with the top 5 classes\n",
    "predict('flowers/train/100/image_07900.jpg', model)"
   ]
  }
 ],
 "metadata": {
  "kernelspec": {
   "display_name": "Python 3",
   "language": "python",
   "name": "python3"
  },
  "language_info": {
   "codemirror_mode": {
    "name": "ipython",
    "version": 3
   },
   "file_extension": ".py",
   "mimetype": "text/x-python",
   "name": "python",
   "nbconvert_exporter": "python",
   "pygments_lexer": "ipython3",
   "version": "3.6.3"
  }
 },
 "nbformat": 4,
 "nbformat_minor": 2
}
